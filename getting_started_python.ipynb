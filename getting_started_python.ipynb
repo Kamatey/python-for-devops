{
  "nbformat": 4,
  "nbformat_minor": 0,
  "metadata": {
    "colab": {
      "provenance": [],
      "authorship_tag": "ABX9TyMBdi8IhGPEizQ5RXPkCx3h",
      "include_colab_link": true
    },
    "kernelspec": {
      "name": "python3",
      "display_name": "Python 3"
    },
    "language_info": {
      "name": "python"
    }
  },
  "cells": [
    {
      "cell_type": "markdown",
      "metadata": {
        "id": "view-in-github",
        "colab_type": "text"
      },
      "source": [
        "<a href=\"https://colab.research.google.com/github/Kamatey/python-for-devops/blob/main/getting_started_python.ipynb\" target=\"_parent\"><img src=\"https://colab.research.google.com/assets/colab-badge.svg\" alt=\"Open In Colab\"/></a>"
      ]
    },
    {
      "cell_type": "code",
      "execution_count": null,
      "metadata": {
        "id": "EMslePPHpH0v"
      },
      "outputs": [],
      "source": []
    },
    {
      "cell_type": "markdown",
      "source": [
        "## Introduction to Python"
      ],
      "metadata": {
        "id": "VTfZYfHYrTnK"
      }
    },
    {
      "cell_type": "markdown",
      "source": [
        "### statesment in Python"
      ],
      "metadata": {
        "id": "8X5ECSSFrlx8"
      }
    },
    {
      "cell_type": "code",
      "source": [
        "print(\"hello world\")"
      ],
      "metadata": {
        "id": "0nbYC61TrqIx",
        "outputId": "14735b82-bb29-44f1-c753-55afa8052518",
        "colab": {
          "base_uri": "https://localhost:8080/"
        }
      },
      "execution_count": 1,
      "outputs": [
        {
          "output_type": "stream",
          "name": "stdout",
          "text": [
            "hello world\n"
          ]
        }
      ]
    },
    {
      "cell_type": "code",
      "source": [
        "name = 'malik'\n",
        "print(f'hello {name}')"
      ],
      "metadata": {
        "id": "tR1_abwEsB7L",
        "outputId": "bbfb71b2-da27-4add-94c7-93dc53e6bcc6",
        "colab": {
          "base_uri": "https://localhost:8080/"
        }
      },
      "execution_count": 2,
      "outputs": [
        {
          "output_type": "stream",
          "name": "stdout",
          "text": [
            "hello malik\n"
          ]
        }
      ]
    },
    {
      "cell_type": "code",
      "source": [],
      "metadata": {
        "id": "Mh4wxgyysU_8"
      },
      "execution_count": null,
      "outputs": []
    },
    {
      "cell_type": "markdown",
      "source": [
        "### Datastructures: Lists and Dictionaries"
      ],
      "metadata": {
        "id": "3yX2EZe0so0c"
      }
    },
    {
      "cell_type": "markdown",
      "source": [
        "#### Lists"
      ],
      "metadata": {
        "id": "Lf34NgGgtq1c"
      }
    },
    {
      "cell_type": "code",
      "source": [
        "fruit = ['apple', 'pear', 'strawberry']"
      ],
      "metadata": {
        "id": "pvuj1vwKs0B1"
      },
      "execution_count": 3,
      "outputs": []
    },
    {
      "cell_type": "code",
      "source": [
        "type(fruit)"
      ],
      "metadata": {
        "id": "L3VVyJAwtRWo",
        "outputId": "4a84a9ff-137e-48d5-f8b0-651a060d9e3e",
        "colab": {
          "base_uri": "https://localhost:8080/"
        }
      },
      "execution_count": 4,
      "outputs": [
        {
          "output_type": "execute_result",
          "data": {
            "text/plain": [
              "list"
            ]
          },
          "metadata": {},
          "execution_count": 4
        }
      ]
    },
    {
      "cell_type": "code",
      "source": [],
      "metadata": {
        "id": "8TISHl_ItT3z"
      },
      "execution_count": null,
      "outputs": []
    },
    {
      "cell_type": "markdown",
      "source": [
        "#### Dictionary"
      ],
      "metadata": {
        "id": "U_hutUymuduU"
      }
    },
    {
      "cell_type": "code",
      "source": [
        "meal = {'breakfast':'black coffee', 'lunch':'salad', 'dinner':'steak'}"
      ],
      "metadata": {
        "id": "52DnHaJFujls"
      },
      "execution_count": 5,
      "outputs": []
    },
    {
      "cell_type": "code",
      "source": [
        "meal.keys()"
      ],
      "metadata": {
        "id": "xg9zLtT6vIsI",
        "outputId": "9f5da733-18ab-40a5-c6f7-3a22cec34e62",
        "colab": {
          "base_uri": "https://localhost:8080/"
        }
      },
      "execution_count": 6,
      "outputs": [
        {
          "output_type": "execute_result",
          "data": {
            "text/plain": [
              "dict_keys(['breakfast', 'lunch', 'dinner'])"
            ]
          },
          "metadata": {},
          "execution_count": 6
        }
      ]
    },
    {
      "cell_type": "code",
      "source": [
        "meal.values()"
      ],
      "metadata": {
        "id": "Sz5sB91ivbaM",
        "outputId": "48b8b88c-8e6c-4c5e-da73-901f6e3d540f",
        "colab": {
          "base_uri": "https://localhost:8080/"
        }
      },
      "execution_count": 7,
      "outputs": [
        {
          "output_type": "execute_result",
          "data": {
            "text/plain": [
              "dict_values(['black coffee', 'salad', 'steak'])"
            ]
          },
          "metadata": {},
          "execution_count": 7
        }
      ]
    },
    {
      "cell_type": "code",
      "source": [],
      "metadata": {
        "id": "xS7Jp-JhvfqX"
      },
      "execution_count": null,
      "outputs": []
    }
  ]
}